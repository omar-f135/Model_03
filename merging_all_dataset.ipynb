{
 "metadata": {
  "language_info": {
   "codemirror_mode": {
    "name": "ipython",
    "version": 3
   },
   "file_extension": ".py",
   "mimetype": "text/x-python",
   "name": "python",
   "nbconvert_exporter": "python",
   "pygments_lexer": "ipython3",
   "version": "3.7.4-final"
  },
  "orig_nbformat": 2,
  "kernelspec": {
   "name": "python374jvsc74a57bd0f99de020b342f6398c2daa900581ba139c9d64acb9dee4fdd8018694687cc700",
   "display_name": "Python 3.7.4 64-bit (conda)"
  }
 },
 "nbformat": 4,
 "nbformat_minor": 2,
 "cells": [
  {
   "cell_type": "code",
   "execution_count": 1,
   "metadata": {},
   "outputs": [],
   "source": [
    "# Impor necessary libraries\n",
    "\n",
    "import pandas as pd\n",
    "import numpy as np"
   ]
  },
  {
   "source": [
    "### Uploading all the datasets and Removing Unnecessary columns one by one"
   ],
   "cell_type": "markdown",
   "metadata": {}
  },
  {
   "cell_type": "code",
   "execution_count": 2,
   "metadata": {},
   "outputs": [
    {
     "output_type": "stream",
     "name": "stdout",
     "text": [
      "Index(['order_id', 'customer_id', 'order_status', 'order_purchase_timestamp',\n       'order_approved_at', 'order_delivered_carrier_date',\n       'order_delivered_customer_date', 'order_estimated_delivery_date'],\n      dtype='object')\n"
     ]
    },
    {
     "output_type": "execute_result",
     "data": {
      "text/plain": [
       "                           order_id                       customer_id  \\\n",
       "0  e481f51cbdc54678b7cc49136f2d6af7  9ef432eb6251297304e76186b10a928d   \n",
       "1  53cdb2fc8bc7dce0b6741e2150273451  b0830fb4747a6c6d20dea0b8c802d7ef   \n",
       "2  47770eb9100c2d0c44946d9cf07ec65d  41ce2a54c0b03bf3443c3d931a367089   \n",
       "3  949d5b44dbf5de918fe9c16f97b45f8a  f88197465ea7920adcdbec7375364d82   \n",
       "4  ad21c59c0840e6cb83a9ceb5573f8159  8ab97904e6daea8866dbdbc4fb7aad2c   \n",
       "\n",
       "  order_status order_purchase_timestamp order_approved_at  \\\n",
       "0    delivered         02/10/2017 10:56  02/10/2017 11:07   \n",
       "1    delivered         24/07/2018 20:41  26/07/2018 03:24   \n",
       "2    delivered         08/08/2018 08:38  08/08/2018 08:55   \n",
       "3    delivered         18/11/2017 19:28  18/11/2017 19:45   \n",
       "4    delivered         13/02/2018 21:18  13/02/2018 22:20   \n",
       "\n",
       "  order_delivered_carrier_date order_delivered_customer_date  \\\n",
       "0             04/10/2017 19:55              10/10/2017 21:25   \n",
       "1             26/07/2018 14:31              07/08/2018 15:27   \n",
       "2             08/08/2018 13:50              17/08/2018 18:06   \n",
       "3             22/11/2017 13:39              02/12/2017 00:28   \n",
       "4             14/02/2018 19:46              16/02/2018 18:17   \n",
       "\n",
       "  order_estimated_delivery_date  \n",
       "0              18/10/2017 00:00  \n",
       "1              13/08/2018 00:00  \n",
       "2              04/09/2018 00:00  \n",
       "3              15/12/2017 00:00  \n",
       "4              26/02/2018 00:00  "
      ],
      "text/html": "<div>\n<style scoped>\n    .dataframe tbody tr th:only-of-type {\n        vertical-align: middle;\n    }\n\n    .dataframe tbody tr th {\n        vertical-align: top;\n    }\n\n    .dataframe thead th {\n        text-align: right;\n    }\n</style>\n<table border=\"1\" class=\"dataframe\">\n  <thead>\n    <tr style=\"text-align: right;\">\n      <th></th>\n      <th>order_id</th>\n      <th>customer_id</th>\n      <th>order_status</th>\n      <th>order_purchase_timestamp</th>\n      <th>order_approved_at</th>\n      <th>order_delivered_carrier_date</th>\n      <th>order_delivered_customer_date</th>\n      <th>order_estimated_delivery_date</th>\n    </tr>\n  </thead>\n  <tbody>\n    <tr>\n      <th>0</th>\n      <td>e481f51cbdc54678b7cc49136f2d6af7</td>\n      <td>9ef432eb6251297304e76186b10a928d</td>\n      <td>delivered</td>\n      <td>02/10/2017 10:56</td>\n      <td>02/10/2017 11:07</td>\n      <td>04/10/2017 19:55</td>\n      <td>10/10/2017 21:25</td>\n      <td>18/10/2017 00:00</td>\n    </tr>\n    <tr>\n      <th>1</th>\n      <td>53cdb2fc8bc7dce0b6741e2150273451</td>\n      <td>b0830fb4747a6c6d20dea0b8c802d7ef</td>\n      <td>delivered</td>\n      <td>24/07/2018 20:41</td>\n      <td>26/07/2018 03:24</td>\n      <td>26/07/2018 14:31</td>\n      <td>07/08/2018 15:27</td>\n      <td>13/08/2018 00:00</td>\n    </tr>\n    <tr>\n      <th>2</th>\n      <td>47770eb9100c2d0c44946d9cf07ec65d</td>\n      <td>41ce2a54c0b03bf3443c3d931a367089</td>\n      <td>delivered</td>\n      <td>08/08/2018 08:38</td>\n      <td>08/08/2018 08:55</td>\n      <td>08/08/2018 13:50</td>\n      <td>17/08/2018 18:06</td>\n      <td>04/09/2018 00:00</td>\n    </tr>\n    <tr>\n      <th>3</th>\n      <td>949d5b44dbf5de918fe9c16f97b45f8a</td>\n      <td>f88197465ea7920adcdbec7375364d82</td>\n      <td>delivered</td>\n      <td>18/11/2017 19:28</td>\n      <td>18/11/2017 19:45</td>\n      <td>22/11/2017 13:39</td>\n      <td>02/12/2017 00:28</td>\n      <td>15/12/2017 00:00</td>\n    </tr>\n    <tr>\n      <th>4</th>\n      <td>ad21c59c0840e6cb83a9ceb5573f8159</td>\n      <td>8ab97904e6daea8866dbdbc4fb7aad2c</td>\n      <td>delivered</td>\n      <td>13/02/2018 21:18</td>\n      <td>13/02/2018 22:20</td>\n      <td>14/02/2018 19:46</td>\n      <td>16/02/2018 18:17</td>\n      <td>26/02/2018 00:00</td>\n    </tr>\n  </tbody>\n</table>\n</div>"
     },
     "metadata": {},
     "execution_count": 2
    }
   ],
   "source": [
    "# Load \"orders_dataset.csv\" dataset \n",
    "\n",
    "df_delivery_data = pd.read_csv(\"orders_dataset.csv\")\n",
    "\n",
    "print(df_delivery_data.columns)\n",
    "df_delivery_data.head()"
   ]
  },
  {
   "cell_type": "code",
   "execution_count": 3,
   "metadata": {},
   "outputs": [],
   "source": [
    "df_delivery_data.drop(['customer_id', 'order_status', 'order_purchase_timestamp', 'order_delivered_carrier_date','order_estimated_delivery_date'], axis=1, inplace=True)"
   ]
  },
  {
   "cell_type": "code",
   "execution_count": 4,
   "metadata": {},
   "outputs": [
    {
     "output_type": "execute_result",
     "data": {
      "text/plain": [
       "                           order_id order_approved_at  \\\n",
       "0  e481f51cbdc54678b7cc49136f2d6af7  02/10/2017 11:07   \n",
       "1  53cdb2fc8bc7dce0b6741e2150273451  26/07/2018 03:24   \n",
       "2  47770eb9100c2d0c44946d9cf07ec65d  08/08/2018 08:55   \n",
       "3  949d5b44dbf5de918fe9c16f97b45f8a  18/11/2017 19:45   \n",
       "4  ad21c59c0840e6cb83a9ceb5573f8159  13/02/2018 22:20   \n",
       "\n",
       "  order_delivered_customer_date  \n",
       "0              10/10/2017 21:25  \n",
       "1              07/08/2018 15:27  \n",
       "2              17/08/2018 18:06  \n",
       "3              02/12/2017 00:28  \n",
       "4              16/02/2018 18:17  "
      ],
      "text/html": "<div>\n<style scoped>\n    .dataframe tbody tr th:only-of-type {\n        vertical-align: middle;\n    }\n\n    .dataframe tbody tr th {\n        vertical-align: top;\n    }\n\n    .dataframe thead th {\n        text-align: right;\n    }\n</style>\n<table border=\"1\" class=\"dataframe\">\n  <thead>\n    <tr style=\"text-align: right;\">\n      <th></th>\n      <th>order_id</th>\n      <th>order_approved_at</th>\n      <th>order_delivered_customer_date</th>\n    </tr>\n  </thead>\n  <tbody>\n    <tr>\n      <th>0</th>\n      <td>e481f51cbdc54678b7cc49136f2d6af7</td>\n      <td>02/10/2017 11:07</td>\n      <td>10/10/2017 21:25</td>\n    </tr>\n    <tr>\n      <th>1</th>\n      <td>53cdb2fc8bc7dce0b6741e2150273451</td>\n      <td>26/07/2018 03:24</td>\n      <td>07/08/2018 15:27</td>\n    </tr>\n    <tr>\n      <th>2</th>\n      <td>47770eb9100c2d0c44946d9cf07ec65d</td>\n      <td>08/08/2018 08:55</td>\n      <td>17/08/2018 18:06</td>\n    </tr>\n    <tr>\n      <th>3</th>\n      <td>949d5b44dbf5de918fe9c16f97b45f8a</td>\n      <td>18/11/2017 19:45</td>\n      <td>02/12/2017 00:28</td>\n    </tr>\n    <tr>\n      <th>4</th>\n      <td>ad21c59c0840e6cb83a9ceb5573f8159</td>\n      <td>13/02/2018 22:20</td>\n      <td>16/02/2018 18:17</td>\n    </tr>\n  </tbody>\n</table>\n</div>"
     },
     "metadata": {},
     "execution_count": 4
    }
   ],
   "source": [
    "df_delivery_data.head()"
   ]
  },
  {
   "cell_type": "code",
   "execution_count": 5,
   "metadata": {},
   "outputs": [
    {
     "output_type": "stream",
     "name": "stdout",
     "text": [
      "Index(['order_id', 'order_item_id', 'product_id', 'seller_id',\n       'shipping_limit_date', 'price', 'freight_value'],\n      dtype='object')\n"
     ]
    },
    {
     "output_type": "execute_result",
     "data": {
      "text/plain": [
       "                           order_id  order_item_id  \\\n",
       "0  00010242fe8c5a6d1ba2dd792cb16214              1   \n",
       "1  00018f77f2f0320c557190d7a144bdd3              1   \n",
       "2  000229ec398224ef6ca0657da4fc703e              1   \n",
       "3  00024acbcdf0a6daa1e931b038114c75              1   \n",
       "4  00042b26cf59d7ce69dfabb4e55b4fd9              1   \n",
       "\n",
       "                         product_id                         seller_id  \\\n",
       "0  4244733e06e7ecb4970a6e2683c13e61  48436dade18ac8b2bce089ec2a041202   \n",
       "1  e5f2d52b802189ee658865ca93d83a8f  dd7ddc04e1b6c2c614352b383efe2d36   \n",
       "2  c777355d18b72b67abbeef9df44fd0fd  5b51032eddd242adc84c38acab88f23d   \n",
       "3  7634da152a4610f1595efa32f14722fc  9d7a1d34a5052409006425275ba1c2b4   \n",
       "4  ac6c3623068f30de03045865e4e10089  df560393f3a51e74553ab94004ba5c87   \n",
       "\n",
       "  shipping_limit_date   price  freight_value  \n",
       "0    19/09/2017 09:45   58.90          13.29  \n",
       "1    03/05/2017 11:05  239.90          19.93  \n",
       "2    18/01/2018 14:48  199.00          17.87  \n",
       "3    15/08/2018 10:10   12.99          12.79  \n",
       "4    13/02/2017 13:57  199.90          18.14  "
      ],
      "text/html": "<div>\n<style scoped>\n    .dataframe tbody tr th:only-of-type {\n        vertical-align: middle;\n    }\n\n    .dataframe tbody tr th {\n        vertical-align: top;\n    }\n\n    .dataframe thead th {\n        text-align: right;\n    }\n</style>\n<table border=\"1\" class=\"dataframe\">\n  <thead>\n    <tr style=\"text-align: right;\">\n      <th></th>\n      <th>order_id</th>\n      <th>order_item_id</th>\n      <th>product_id</th>\n      <th>seller_id</th>\n      <th>shipping_limit_date</th>\n      <th>price</th>\n      <th>freight_value</th>\n    </tr>\n  </thead>\n  <tbody>\n    <tr>\n      <th>0</th>\n      <td>00010242fe8c5a6d1ba2dd792cb16214</td>\n      <td>1</td>\n      <td>4244733e06e7ecb4970a6e2683c13e61</td>\n      <td>48436dade18ac8b2bce089ec2a041202</td>\n      <td>19/09/2017 09:45</td>\n      <td>58.90</td>\n      <td>13.29</td>\n    </tr>\n    <tr>\n      <th>1</th>\n      <td>00018f77f2f0320c557190d7a144bdd3</td>\n      <td>1</td>\n      <td>e5f2d52b802189ee658865ca93d83a8f</td>\n      <td>dd7ddc04e1b6c2c614352b383efe2d36</td>\n      <td>03/05/2017 11:05</td>\n      <td>239.90</td>\n      <td>19.93</td>\n    </tr>\n    <tr>\n      <th>2</th>\n      <td>000229ec398224ef6ca0657da4fc703e</td>\n      <td>1</td>\n      <td>c777355d18b72b67abbeef9df44fd0fd</td>\n      <td>5b51032eddd242adc84c38acab88f23d</td>\n      <td>18/01/2018 14:48</td>\n      <td>199.00</td>\n      <td>17.87</td>\n    </tr>\n    <tr>\n      <th>3</th>\n      <td>00024acbcdf0a6daa1e931b038114c75</td>\n      <td>1</td>\n      <td>7634da152a4610f1595efa32f14722fc</td>\n      <td>9d7a1d34a5052409006425275ba1c2b4</td>\n      <td>15/08/2018 10:10</td>\n      <td>12.99</td>\n      <td>12.79</td>\n    </tr>\n    <tr>\n      <th>4</th>\n      <td>00042b26cf59d7ce69dfabb4e55b4fd9</td>\n      <td>1</td>\n      <td>ac6c3623068f30de03045865e4e10089</td>\n      <td>df560393f3a51e74553ab94004ba5c87</td>\n      <td>13/02/2017 13:57</td>\n      <td>199.90</td>\n      <td>18.14</td>\n    </tr>\n  </tbody>\n</table>\n</div>"
     },
     "metadata": {},
     "execution_count": 5
    }
   ],
   "source": [
    "# Load \"order_items_dataset.csv\" dataset\n",
    "\n",
    "df_price = pd.read_csv(\"order_items_dataset.csv\")\n",
    "print(df_price.columns)\n",
    "df_price.head(5)"
   ]
  },
  {
   "cell_type": "code",
   "execution_count": 6,
   "metadata": {},
   "outputs": [],
   "source": [
    "df_price.drop(['order_item_id', 'seller_id', 'shipping_limit_date', 'freight_value'], axis=1, inplace=True)"
   ]
  },
  {
   "cell_type": "code",
   "execution_count": 7,
   "metadata": {},
   "outputs": [
    {
     "output_type": "stream",
     "name": "stdout",
     "text": [
      "(112650, 3)\n"
     ]
    },
    {
     "output_type": "execute_result",
     "data": {
      "text/plain": [
       "                           order_id                        product_id   price\n",
       "0  00010242fe8c5a6d1ba2dd792cb16214  4244733e06e7ecb4970a6e2683c13e61   58.90\n",
       "1  00018f77f2f0320c557190d7a144bdd3  e5f2d52b802189ee658865ca93d83a8f  239.90\n",
       "2  000229ec398224ef6ca0657da4fc703e  c777355d18b72b67abbeef9df44fd0fd  199.00\n",
       "3  00024acbcdf0a6daa1e931b038114c75  7634da152a4610f1595efa32f14722fc   12.99\n",
       "4  00042b26cf59d7ce69dfabb4e55b4fd9  ac6c3623068f30de03045865e4e10089  199.90"
      ],
      "text/html": "<div>\n<style scoped>\n    .dataframe tbody tr th:only-of-type {\n        vertical-align: middle;\n    }\n\n    .dataframe tbody tr th {\n        vertical-align: top;\n    }\n\n    .dataframe thead th {\n        text-align: right;\n    }\n</style>\n<table border=\"1\" class=\"dataframe\">\n  <thead>\n    <tr style=\"text-align: right;\">\n      <th></th>\n      <th>order_id</th>\n      <th>product_id</th>\n      <th>price</th>\n    </tr>\n  </thead>\n  <tbody>\n    <tr>\n      <th>0</th>\n      <td>00010242fe8c5a6d1ba2dd792cb16214</td>\n      <td>4244733e06e7ecb4970a6e2683c13e61</td>\n      <td>58.90</td>\n    </tr>\n    <tr>\n      <th>1</th>\n      <td>00018f77f2f0320c557190d7a144bdd3</td>\n      <td>e5f2d52b802189ee658865ca93d83a8f</td>\n      <td>239.90</td>\n    </tr>\n    <tr>\n      <th>2</th>\n      <td>000229ec398224ef6ca0657da4fc703e</td>\n      <td>c777355d18b72b67abbeef9df44fd0fd</td>\n      <td>199.00</td>\n    </tr>\n    <tr>\n      <th>3</th>\n      <td>00024acbcdf0a6daa1e931b038114c75</td>\n      <td>7634da152a4610f1595efa32f14722fc</td>\n      <td>12.99</td>\n    </tr>\n    <tr>\n      <th>4</th>\n      <td>00042b26cf59d7ce69dfabb4e55b4fd9</td>\n      <td>ac6c3623068f30de03045865e4e10089</td>\n      <td>199.90</td>\n    </tr>\n  </tbody>\n</table>\n</div>"
     },
     "metadata": {},
     "execution_count": 7
    }
   ],
   "source": [
    "print(df_price.shape)\n",
    "df_price.head()\n"
   ]
  },
  {
   "cell_type": "code",
   "execution_count": 9,
   "metadata": {},
   "outputs": [
    {
     "output_type": "stream",
     "name": "stdout",
     "text": [
      "Index(['order_id', 'reviews', 'label'], dtype='object')\n"
     ]
    },
    {
     "output_type": "execute_result",
     "data": {
      "text/plain": [
       "                           order_id  \\\n",
       "0  658677c97b385a9be170737859d3511b   \n",
       "1  8e6bfb81e283fa7e4f11123a3fb894f1   \n",
       "2  b9bf720beb4ab3728760088589c62129   \n",
       "3  9d6f15f95d01e79bd1349cc208361f09   \n",
       "4  e51478e7e277a83743b6f9991dbfa3fb   \n",
       "\n",
       "                                             reviews  label  \n",
       "0               recebi bem antes do prazo estipulado      1  \n",
       "1   parabéns lojas lannister adorei comprar pela ...      1  \n",
       "2  recomendo aparelho eficiente no site a marca d...      1  \n",
       "3           mas um pouco travandopelo valor ta boa\\n      1  \n",
       "4  super recomendo vendedor confiável produto ok ...      1  "
      ],
      "text/html": "<div>\n<style scoped>\n    .dataframe tbody tr th:only-of-type {\n        vertical-align: middle;\n    }\n\n    .dataframe tbody tr th {\n        vertical-align: top;\n    }\n\n    .dataframe thead th {\n        text-align: right;\n    }\n</style>\n<table border=\"1\" class=\"dataframe\">\n  <thead>\n    <tr style=\"text-align: right;\">\n      <th></th>\n      <th>order_id</th>\n      <th>reviews</th>\n      <th>label</th>\n    </tr>\n  </thead>\n  <tbody>\n    <tr>\n      <th>0</th>\n      <td>658677c97b385a9be170737859d3511b</td>\n      <td>recebi bem antes do prazo estipulado</td>\n      <td>1</td>\n    </tr>\n    <tr>\n      <th>1</th>\n      <td>8e6bfb81e283fa7e4f11123a3fb894f1</td>\n      <td>parabéns lojas lannister adorei comprar pela ...</td>\n      <td>1</td>\n    </tr>\n    <tr>\n      <th>2</th>\n      <td>b9bf720beb4ab3728760088589c62129</td>\n      <td>recomendo aparelho eficiente no site a marca d...</td>\n      <td>1</td>\n    </tr>\n    <tr>\n      <th>3</th>\n      <td>9d6f15f95d01e79bd1349cc208361f09</td>\n      <td>mas um pouco travandopelo valor ta boa\\n</td>\n      <td>1</td>\n    </tr>\n    <tr>\n      <th>4</th>\n      <td>e51478e7e277a83743b6f9991dbfa3fb</td>\n      <td>super recomendo vendedor confiável produto ok ...</td>\n      <td>1</td>\n    </tr>\n  </tbody>\n</table>\n</div>"
     },
     "metadata": {},
     "execution_count": 9
    }
   ],
   "source": [
    "# Load \"review_with_labeled.xlsx\" dataset\n",
    "\n",
    "df_review = pd.read_excel(\"review_with_labelled.xlsx\")\n",
    "print(df_review.columns)\n",
    "df_review.head()"
   ]
  },
  {
   "cell_type": "code",
   "execution_count": 10,
   "metadata": {},
   "outputs": [],
   "source": [
    "# Drop reviews column\n",
    "\n",
    "df_review.drop(['reviews'], axis=1, inplace=True)"
   ]
  },
  {
   "cell_type": "code",
   "execution_count": 11,
   "metadata": {},
   "outputs": [
    {
     "output_type": "execute_result",
     "data": {
      "text/plain": [
       "                           order_id  label\n",
       "0  658677c97b385a9be170737859d3511b      1\n",
       "1  8e6bfb81e283fa7e4f11123a3fb894f1      1\n",
       "2  b9bf720beb4ab3728760088589c62129      1\n",
       "3  9d6f15f95d01e79bd1349cc208361f09      1\n",
       "4  e51478e7e277a83743b6f9991dbfa3fb      1"
      ],
      "text/html": "<div>\n<style scoped>\n    .dataframe tbody tr th:only-of-type {\n        vertical-align: middle;\n    }\n\n    .dataframe tbody tr th {\n        vertical-align: top;\n    }\n\n    .dataframe thead th {\n        text-align: right;\n    }\n</style>\n<table border=\"1\" class=\"dataframe\">\n  <thead>\n    <tr style=\"text-align: right;\">\n      <th></th>\n      <th>order_id</th>\n      <th>label</th>\n    </tr>\n  </thead>\n  <tbody>\n    <tr>\n      <th>0</th>\n      <td>658677c97b385a9be170737859d3511b</td>\n      <td>1</td>\n    </tr>\n    <tr>\n      <th>1</th>\n      <td>8e6bfb81e283fa7e4f11123a3fb894f1</td>\n      <td>1</td>\n    </tr>\n    <tr>\n      <th>2</th>\n      <td>b9bf720beb4ab3728760088589c62129</td>\n      <td>1</td>\n    </tr>\n    <tr>\n      <th>3</th>\n      <td>9d6f15f95d01e79bd1349cc208361f09</td>\n      <td>1</td>\n    </tr>\n    <tr>\n      <th>4</th>\n      <td>e51478e7e277a83743b6f9991dbfa3fb</td>\n      <td>1</td>\n    </tr>\n  </tbody>\n</table>\n</div>"
     },
     "metadata": {},
     "execution_count": 11
    }
   ],
   "source": [
    "df_review.head()"
   ]
  },
  {
   "cell_type": "code",
   "execution_count": 12,
   "metadata": {},
   "outputs": [
    {
     "output_type": "execute_result",
     "data": {
      "text/plain": [
       "    product_category_name product_category_name_english\n",
       "0            beleza_saude                 health_beauty\n",
       "1  informatica_acessorios         computers_accessories\n",
       "2              automotivo                          auto\n",
       "3         cama_mesa_banho                bed_bath_table\n",
       "4        moveis_decoracao               furniture_decor"
      ],
      "text/html": "<div>\n<style scoped>\n    .dataframe tbody tr th:only-of-type {\n        vertical-align: middle;\n    }\n\n    .dataframe tbody tr th {\n        vertical-align: top;\n    }\n\n    .dataframe thead th {\n        text-align: right;\n    }\n</style>\n<table border=\"1\" class=\"dataframe\">\n  <thead>\n    <tr style=\"text-align: right;\">\n      <th></th>\n      <th>product_category_name</th>\n      <th>product_category_name_english</th>\n    </tr>\n  </thead>\n  <tbody>\n    <tr>\n      <th>0</th>\n      <td>beleza_saude</td>\n      <td>health_beauty</td>\n    </tr>\n    <tr>\n      <th>1</th>\n      <td>informatica_acessorios</td>\n      <td>computers_accessories</td>\n    </tr>\n    <tr>\n      <th>2</th>\n      <td>automotivo</td>\n      <td>auto</td>\n    </tr>\n    <tr>\n      <th>3</th>\n      <td>cama_mesa_banho</td>\n      <td>bed_bath_table</td>\n    </tr>\n    <tr>\n      <th>4</th>\n      <td>moveis_decoracao</td>\n      <td>furniture_decor</td>\n    </tr>\n  </tbody>\n</table>\n</div>"
     },
     "metadata": {},
     "execution_count": 12
    }
   ],
   "source": [
    "# Load Product \"products_dataset.csv\" and \"product_category_name_translation.csv\"\n",
    "# \"product_category_name_translation.csv\" contain product category name in English of portugueses category name\n",
    "\n",
    "df_cat_pt = pd.read_csv(\"products_dataset.csv\")\n",
    "df_cat_en = pd.read_csv(\"product_category_n_en.csv\")\n",
    "\n",
    "df_cat_en.head()"
   ]
  },
  {
   "cell_type": "code",
   "execution_count": 13,
   "metadata": {},
   "outputs": [
    {
     "output_type": "execute_result",
     "data": {
      "text/plain": [
       "product_category_name            0\n",
       "product_category_name_english    0\n",
       "dtype: int64"
      ]
     },
     "metadata": {},
     "execution_count": 13
    }
   ],
   "source": [
    "df_cat_en.isnull().sum()"
   ]
  },
  {
   "cell_type": "code",
   "execution_count": 14,
   "metadata": {},
   "outputs": [
    {
     "output_type": "stream",
     "name": "stdout",
     "text": [
      "Index(['product_id', 'product_category_name', 'product_name_lenght',\n       'product_description_lenght', 'product_photos_qty', 'product_weight_g',\n       'product_length_cm', 'product_height_cm', 'product_width_cm'],\n      dtype='object')\n"
     ]
    },
    {
     "output_type": "execute_result",
     "data": {
      "text/plain": [
       "                         product_id  product_category_name  \\\n",
       "0  1e9e8ef04dbcff4541ed26657ea517e5             perfumaria   \n",
       "1  3aa071139cb16b67ca9e5dea641aaa2f                  artes   \n",
       "2  96bd76ec8810374ed1b65e291975717f          esporte_lazer   \n",
       "3  cef67bcfe19066a932b7673e239eb23d                  bebes   \n",
       "4  9dc1a7de274444849c219cff195d0b71  utilidades_domesticas   \n",
       "\n",
       "   product_name_lenght  product_description_lenght  product_photos_qty  \\\n",
       "0                 40.0                       287.0                 1.0   \n",
       "1                 44.0                       276.0                 1.0   \n",
       "2                 46.0                       250.0                 1.0   \n",
       "3                 27.0                       261.0                 1.0   \n",
       "4                 37.0                       402.0                 4.0   \n",
       "\n",
       "   product_weight_g  product_length_cm  product_height_cm  product_width_cm  \n",
       "0             225.0               16.0               10.0              14.0  \n",
       "1            1000.0               30.0               18.0              20.0  \n",
       "2             154.0               18.0                9.0              15.0  \n",
       "3             371.0               26.0                4.0              26.0  \n",
       "4             625.0               20.0               17.0              13.0  "
      ],
      "text/html": "<div>\n<style scoped>\n    .dataframe tbody tr th:only-of-type {\n        vertical-align: middle;\n    }\n\n    .dataframe tbody tr th {\n        vertical-align: top;\n    }\n\n    .dataframe thead th {\n        text-align: right;\n    }\n</style>\n<table border=\"1\" class=\"dataframe\">\n  <thead>\n    <tr style=\"text-align: right;\">\n      <th></th>\n      <th>product_id</th>\n      <th>product_category_name</th>\n      <th>product_name_lenght</th>\n      <th>product_description_lenght</th>\n      <th>product_photos_qty</th>\n      <th>product_weight_g</th>\n      <th>product_length_cm</th>\n      <th>product_height_cm</th>\n      <th>product_width_cm</th>\n    </tr>\n  </thead>\n  <tbody>\n    <tr>\n      <th>0</th>\n      <td>1e9e8ef04dbcff4541ed26657ea517e5</td>\n      <td>perfumaria</td>\n      <td>40.0</td>\n      <td>287.0</td>\n      <td>1.0</td>\n      <td>225.0</td>\n      <td>16.0</td>\n      <td>10.0</td>\n      <td>14.0</td>\n    </tr>\n    <tr>\n      <th>1</th>\n      <td>3aa071139cb16b67ca9e5dea641aaa2f</td>\n      <td>artes</td>\n      <td>44.0</td>\n      <td>276.0</td>\n      <td>1.0</td>\n      <td>1000.0</td>\n      <td>30.0</td>\n      <td>18.0</td>\n      <td>20.0</td>\n    </tr>\n    <tr>\n      <th>2</th>\n      <td>96bd76ec8810374ed1b65e291975717f</td>\n      <td>esporte_lazer</td>\n      <td>46.0</td>\n      <td>250.0</td>\n      <td>1.0</td>\n      <td>154.0</td>\n      <td>18.0</td>\n      <td>9.0</td>\n      <td>15.0</td>\n    </tr>\n    <tr>\n      <th>3</th>\n      <td>cef67bcfe19066a932b7673e239eb23d</td>\n      <td>bebes</td>\n      <td>27.0</td>\n      <td>261.0</td>\n      <td>1.0</td>\n      <td>371.0</td>\n      <td>26.0</td>\n      <td>4.0</td>\n      <td>26.0</td>\n    </tr>\n    <tr>\n      <th>4</th>\n      <td>9dc1a7de274444849c219cff195d0b71</td>\n      <td>utilidades_domesticas</td>\n      <td>37.0</td>\n      <td>402.0</td>\n      <td>4.0</td>\n      <td>625.0</td>\n      <td>20.0</td>\n      <td>17.0</td>\n      <td>13.0</td>\n    </tr>\n  </tbody>\n</table>\n</div>"
     },
     "metadata": {},
     "execution_count": 14
    }
   ],
   "source": [
    "print(df_cat_pt.columns)\n",
    "df_cat_pt.head()\n"
   ]
  },
  {
   "cell_type": "code",
   "execution_count": 15,
   "metadata": {},
   "outputs": [],
   "source": [
    "# Revome innecessary columns\n",
    "\n",
    "df_cat_pt.drop(['product_name_lenght', 'product_description_lenght', 'product_photos_qty', 'product_weight_g',\n",
    "       'product_length_cm', 'product_height_cm', 'product_width_cm'], axis=1, inplace=True)\n"
   ]
  },
  {
   "cell_type": "code",
   "execution_count": 16,
   "metadata": {},
   "outputs": [
    {
     "output_type": "execute_result",
     "data": {
      "text/plain": [
       "                         product_id  product_category_name\n",
       "0  1e9e8ef04dbcff4541ed26657ea517e5             perfumaria\n",
       "1  3aa071139cb16b67ca9e5dea641aaa2f                  artes\n",
       "2  96bd76ec8810374ed1b65e291975717f          esporte_lazer\n",
       "3  cef67bcfe19066a932b7673e239eb23d                  bebes\n",
       "4  9dc1a7de274444849c219cff195d0b71  utilidades_domesticas"
      ],
      "text/html": "<div>\n<style scoped>\n    .dataframe tbody tr th:only-of-type {\n        vertical-align: middle;\n    }\n\n    .dataframe tbody tr th {\n        vertical-align: top;\n    }\n\n    .dataframe thead th {\n        text-align: right;\n    }\n</style>\n<table border=\"1\" class=\"dataframe\">\n  <thead>\n    <tr style=\"text-align: right;\">\n      <th></th>\n      <th>product_id</th>\n      <th>product_category_name</th>\n    </tr>\n  </thead>\n  <tbody>\n    <tr>\n      <th>0</th>\n      <td>1e9e8ef04dbcff4541ed26657ea517e5</td>\n      <td>perfumaria</td>\n    </tr>\n    <tr>\n      <th>1</th>\n      <td>3aa071139cb16b67ca9e5dea641aaa2f</td>\n      <td>artes</td>\n    </tr>\n    <tr>\n      <th>2</th>\n      <td>96bd76ec8810374ed1b65e291975717f</td>\n      <td>esporte_lazer</td>\n    </tr>\n    <tr>\n      <th>3</th>\n      <td>cef67bcfe19066a932b7673e239eb23d</td>\n      <td>bebes</td>\n    </tr>\n    <tr>\n      <th>4</th>\n      <td>9dc1a7de274444849c219cff195d0b71</td>\n      <td>utilidades_domesticas</td>\n    </tr>\n  </tbody>\n</table>\n</div>"
     },
     "metadata": {},
     "execution_count": 16
    }
   ],
   "source": [
    "df_cat_pt.head()"
   ]
  },
  {
   "cell_type": "code",
   "execution_count": 17,
   "metadata": {},
   "outputs": [],
   "source": [
    "# Create two list, one contains portugues categoru name and other contain coresponding english category name. \n",
    "\n",
    "pt_ca_n = np.array(df_cat_en[\"product_category_name\"]) # portugues categoru name\n",
    "en_ca_n = np.array(df_cat_en[\"product_category_name_english\"]) # english category name"
   ]
  },
  {
   "cell_type": "code",
   "execution_count": 18,
   "metadata": {},
   "outputs": [
    {
     "output_type": "stream",
     "name": "stdout",
     "text": [
      "(32951, 2)\n"
     ]
    },
    {
     "output_type": "execute_result",
     "data": {
      "text/plain": [
       "                         product_id product_category_name\n",
       "0  1e9e8ef04dbcff4541ed26657ea517e5             perfumery\n",
       "1  3aa071139cb16b67ca9e5dea641aaa2f                   art\n",
       "2  96bd76ec8810374ed1b65e291975717f        sports_leisure\n",
       "3  cef67bcfe19066a932b7673e239eb23d                  baby\n",
       "4  9dc1a7de274444849c219cff195d0b71            housewares"
      ],
      "text/html": "<div>\n<style scoped>\n    .dataframe tbody tr th:only-of-type {\n        vertical-align: middle;\n    }\n\n    .dataframe tbody tr th {\n        vertical-align: top;\n    }\n\n    .dataframe thead th {\n        text-align: right;\n    }\n</style>\n<table border=\"1\" class=\"dataframe\">\n  <thead>\n    <tr style=\"text-align: right;\">\n      <th></th>\n      <th>product_id</th>\n      <th>product_category_name</th>\n    </tr>\n  </thead>\n  <tbody>\n    <tr>\n      <th>0</th>\n      <td>1e9e8ef04dbcff4541ed26657ea517e5</td>\n      <td>perfumery</td>\n    </tr>\n    <tr>\n      <th>1</th>\n      <td>3aa071139cb16b67ca9e5dea641aaa2f</td>\n      <td>art</td>\n    </tr>\n    <tr>\n      <th>2</th>\n      <td>96bd76ec8810374ed1b65e291975717f</td>\n      <td>sports_leisure</td>\n    </tr>\n    <tr>\n      <th>3</th>\n      <td>cef67bcfe19066a932b7673e239eb23d</td>\n      <td>baby</td>\n    </tr>\n    <tr>\n      <th>4</th>\n      <td>9dc1a7de274444849c219cff195d0b71</td>\n      <td>housewares</td>\n    </tr>\n  </tbody>\n</table>\n</div>"
     },
     "metadata": {},
     "execution_count": 18
    }
   ],
   "source": [
    "df_product_cat = df_cat_pt.replace(pt_ca_n,en_ca_n) # Replace Category name in English\n",
    "\n",
    "print(df_product_cat.shape)\n",
    "df_product_cat.head()"
   ]
  },
  {
   "source": [
    "### Merge all dataframe one by one "
   ],
   "cell_type": "markdown",
   "metadata": {}
  },
  {
   "cell_type": "code",
   "execution_count": 19,
   "metadata": {},
   "outputs": [],
   "source": [
    "# merge df_price and df_product_cat on product_id column\n",
    "\n",
    "merged_price_cat_df = pd.merge( df_price, df_product_cat, on = \"product_id\", how = \"inner\", indicator=True) "
   ]
  },
  {
   "cell_type": "code",
   "execution_count": 20,
   "metadata": {},
   "outputs": [
    {
     "output_type": "stream",
     "name": "stdout",
     "text": [
      "(112650, 5) ['both']\nCategories (1, object): ['both']\n"
     ]
    },
    {
     "output_type": "execute_result",
     "data": {
      "text/plain": [
       "                                order_id                        product_id  \\\n",
       "112645  ffebd80e3291e811c308365936897efd  4cc4d02efc8f249c13355147fb44e34d   \n",
       "112646  ffee31fb4b5e35c9123608015637c495  b10ecf8e33aaaea419a9fa860ea80fb5   \n",
       "112647  fff7c4452f050315db1b3f24d9df5fcd  dd469c03ad67e201bc2179ef077dcd48   \n",
       "112648  fffa82886406ccf10c7b4e35c4ff2788  bbe7651fef80287a816ead73f065fc4b   \n",
       "112649  fffe41c64501cc87c801fd61db3f6244  350688d9dc1e75ff97be326363655e01   \n",
       "\n",
       "        price product_category_name _merge  \n",
       "112645  129.9          garden_tools   both  \n",
       "112646   99.0       furniture_decor   both  \n",
       "112647  736.0         watches_gifts   both  \n",
       "112648  229.9        sports_leisure   both  \n",
       "112649   43.0        bed_bath_table   both  "
      ],
      "text/html": "<div>\n<style scoped>\n    .dataframe tbody tr th:only-of-type {\n        vertical-align: middle;\n    }\n\n    .dataframe tbody tr th {\n        vertical-align: top;\n    }\n\n    .dataframe thead th {\n        text-align: right;\n    }\n</style>\n<table border=\"1\" class=\"dataframe\">\n  <thead>\n    <tr style=\"text-align: right;\">\n      <th></th>\n      <th>order_id</th>\n      <th>product_id</th>\n      <th>price</th>\n      <th>product_category_name</th>\n      <th>_merge</th>\n    </tr>\n  </thead>\n  <tbody>\n    <tr>\n      <th>112645</th>\n      <td>ffebd80e3291e811c308365936897efd</td>\n      <td>4cc4d02efc8f249c13355147fb44e34d</td>\n      <td>129.9</td>\n      <td>garden_tools</td>\n      <td>both</td>\n    </tr>\n    <tr>\n      <th>112646</th>\n      <td>ffee31fb4b5e35c9123608015637c495</td>\n      <td>b10ecf8e33aaaea419a9fa860ea80fb5</td>\n      <td>99.0</td>\n      <td>furniture_decor</td>\n      <td>both</td>\n    </tr>\n    <tr>\n      <th>112647</th>\n      <td>fff7c4452f050315db1b3f24d9df5fcd</td>\n      <td>dd469c03ad67e201bc2179ef077dcd48</td>\n      <td>736.0</td>\n      <td>watches_gifts</td>\n      <td>both</td>\n    </tr>\n    <tr>\n      <th>112648</th>\n      <td>fffa82886406ccf10c7b4e35c4ff2788</td>\n      <td>bbe7651fef80287a816ead73f065fc4b</td>\n      <td>229.9</td>\n      <td>sports_leisure</td>\n      <td>both</td>\n    </tr>\n    <tr>\n      <th>112649</th>\n      <td>fffe41c64501cc87c801fd61db3f6244</td>\n      <td>350688d9dc1e75ff97be326363655e01</td>\n      <td>43.0</td>\n      <td>bed_bath_table</td>\n      <td>both</td>\n    </tr>\n  </tbody>\n</table>\n</div>"
     },
     "metadata": {},
     "execution_count": 20
    }
   ],
   "source": [
    "print(merged_price_cat_df.shape, merged_price_cat_df._merge.unique())\n",
    "merged_price_cat_df.tail()"
   ]
  },
  {
   "cell_type": "code",
   "execution_count": 21,
   "metadata": {},
   "outputs": [],
   "source": [
    "# dropping duplicate rows \n",
    "\n",
    "merge_a = merged_price_cat_df.drop_duplicates()"
   ]
  },
  {
   "cell_type": "code",
   "execution_count": 22,
   "metadata": {},
   "outputs": [],
   "source": [
    "# remove product_id column\n",
    "merge01 = merge_a.copy()\n",
    "merge01.drop([\"product_id\", \"_merge\"], axis=1, inplace=True)"
   ]
  },
  {
   "cell_type": "code",
   "execution_count": 23,
   "metadata": {},
   "outputs": [
    {
     "output_type": "execute_result",
     "data": {
      "text/plain": [
       "                           order_id  price product_category_name\n",
       "0  00010242fe8c5a6d1ba2dd792cb16214   58.9            cool_stuff\n",
       "1  130898c0987d1801452a8ed92a670612   55.9            cool_stuff\n",
       "2  532ed5e14e24ae1f0d735b91524b98b9   64.9            cool_stuff"
      ],
      "text/html": "<div>\n<style scoped>\n    .dataframe tbody tr th:only-of-type {\n        vertical-align: middle;\n    }\n\n    .dataframe tbody tr th {\n        vertical-align: top;\n    }\n\n    .dataframe thead th {\n        text-align: right;\n    }\n</style>\n<table border=\"1\" class=\"dataframe\">\n  <thead>\n    <tr style=\"text-align: right;\">\n      <th></th>\n      <th>order_id</th>\n      <th>price</th>\n      <th>product_category_name</th>\n    </tr>\n  </thead>\n  <tbody>\n    <tr>\n      <th>0</th>\n      <td>00010242fe8c5a6d1ba2dd792cb16214</td>\n      <td>58.9</td>\n      <td>cool_stuff</td>\n    </tr>\n    <tr>\n      <th>1</th>\n      <td>130898c0987d1801452a8ed92a670612</td>\n      <td>55.9</td>\n      <td>cool_stuff</td>\n    </tr>\n    <tr>\n      <th>2</th>\n      <td>532ed5e14e24ae1f0d735b91524b98b9</td>\n      <td>64.9</td>\n      <td>cool_stuff</td>\n    </tr>\n  </tbody>\n</table>\n</div>"
     },
     "metadata": {},
     "execution_count": 23
    }
   ],
   "source": [
    "merge01.head(3)"
   ]
  },
  {
   "cell_type": "code",
   "execution_count": 24,
   "metadata": {},
   "outputs": [],
   "source": [
    "# Merge df_delivery_data, df_review columns on order_id values\n",
    "\n",
    "merge02 = pd.merge(df_delivery_data, df_review, on=\"order_id\", how=\"inner\", indicator=True)"
   ]
  },
  {
   "cell_type": "code",
   "execution_count": 25,
   "metadata": {},
   "outputs": [
    {
     "output_type": "stream",
     "name": "stdout",
     "text": [
      "(38573, 5) ['both']\nCategories (1, object): ['both']\n"
     ]
    },
    {
     "output_type": "execute_result",
     "data": {
      "text/plain": [
       "                           order_id order_approved_at  \\\n",
       "0  e481f51cbdc54678b7cc49136f2d6af7  02/10/2017 11:07   \n",
       "1  53cdb2fc8bc7dce0b6741e2150273451  26/07/2018 03:24   \n",
       "2  949d5b44dbf5de918fe9c16f97b45f8a  18/11/2017 19:45   \n",
       "3  136cce7faa42fdb2cefd53fdc79a6098  13/04/2017 13:25   \n",
       "4  e6ce16cb79ec1d90b1da9085a6118aeb  16/05/2017 19:50   \n",
       "\n",
       "  order_delivered_customer_date  label _merge  \n",
       "0              10/10/2017 21:25      1   both  \n",
       "1              07/08/2018 15:27      1   both  \n",
       "2              02/12/2017 00:28      1   both  \n",
       "3                           NaN      0   both  \n",
       "4              29/05/2017 11:18      0   both  "
      ],
      "text/html": "<div>\n<style scoped>\n    .dataframe tbody tr th:only-of-type {\n        vertical-align: middle;\n    }\n\n    .dataframe tbody tr th {\n        vertical-align: top;\n    }\n\n    .dataframe thead th {\n        text-align: right;\n    }\n</style>\n<table border=\"1\" class=\"dataframe\">\n  <thead>\n    <tr style=\"text-align: right;\">\n      <th></th>\n      <th>order_id</th>\n      <th>order_approved_at</th>\n      <th>order_delivered_customer_date</th>\n      <th>label</th>\n      <th>_merge</th>\n    </tr>\n  </thead>\n  <tbody>\n    <tr>\n      <th>0</th>\n      <td>e481f51cbdc54678b7cc49136f2d6af7</td>\n      <td>02/10/2017 11:07</td>\n      <td>10/10/2017 21:25</td>\n      <td>1</td>\n      <td>both</td>\n    </tr>\n    <tr>\n      <th>1</th>\n      <td>53cdb2fc8bc7dce0b6741e2150273451</td>\n      <td>26/07/2018 03:24</td>\n      <td>07/08/2018 15:27</td>\n      <td>1</td>\n      <td>both</td>\n    </tr>\n    <tr>\n      <th>2</th>\n      <td>949d5b44dbf5de918fe9c16f97b45f8a</td>\n      <td>18/11/2017 19:45</td>\n      <td>02/12/2017 00:28</td>\n      <td>1</td>\n      <td>both</td>\n    </tr>\n    <tr>\n      <th>3</th>\n      <td>136cce7faa42fdb2cefd53fdc79a6098</td>\n      <td>13/04/2017 13:25</td>\n      <td>NaN</td>\n      <td>0</td>\n      <td>both</td>\n    </tr>\n    <tr>\n      <th>4</th>\n      <td>e6ce16cb79ec1d90b1da9085a6118aeb</td>\n      <td>16/05/2017 19:50</td>\n      <td>29/05/2017 11:18</td>\n      <td>0</td>\n      <td>both</td>\n    </tr>\n  </tbody>\n</table>\n</div>"
     },
     "metadata": {},
     "execution_count": 25
    }
   ],
   "source": [
    "print(merge02.shape, merge02._merge.unique())\n",
    "merge02.head()"
   ]
  },
  {
   "cell_type": "code",
   "execution_count": 26,
   "metadata": {},
   "outputs": [],
   "source": [
    "# drop the \"_merge\" column\n",
    "merge02.drop([\"_merge\"], axis=1, inplace=True)\n"
   ]
  },
  {
   "cell_type": "code",
   "execution_count": 27,
   "metadata": {},
   "outputs": [],
   "source": [
    "merge_final = pd.merge(merge02, merge01, on=\"order_id\", how=\"inner\", indicator=True)"
   ]
  },
  {
   "cell_type": "code",
   "execution_count": 28,
   "metadata": {},
   "outputs": [
    {
     "output_type": "stream",
     "name": "stdout",
     "text": [
      "(40111, 7) ['both']\nCategories (1, object): ['both']\n"
     ]
    },
    {
     "output_type": "execute_result",
     "data": {
      "text/plain": [
       "                           order_id order_approved_at  \\\n",
       "0  e481f51cbdc54678b7cc49136f2d6af7  02/10/2017 11:07   \n",
       "1  53cdb2fc8bc7dce0b6741e2150273451  26/07/2018 03:24   \n",
       "2  949d5b44dbf5de918fe9c16f97b45f8a  18/11/2017 19:45   \n",
       "3  136cce7faa42fdb2cefd53fdc79a6098  13/04/2017 13:25   \n",
       "4  e6ce16cb79ec1d90b1da9085a6118aeb  16/05/2017 19:50   \n",
       "\n",
       "  order_delivered_customer_date  label   price product_category_name _merge  \n",
       "0              10/10/2017 21:25      1   29.99            housewares   both  \n",
       "1              07/08/2018 15:27      1  118.70             perfumery   both  \n",
       "2              02/12/2017 00:28      1   45.00              pet_shop   both  \n",
       "3                           NaN      0   49.90                   NaN   both  \n",
       "4              29/05/2017 11:18      0   99.00          garden_tools   both  "
      ],
      "text/html": "<div>\n<style scoped>\n    .dataframe tbody tr th:only-of-type {\n        vertical-align: middle;\n    }\n\n    .dataframe tbody tr th {\n        vertical-align: top;\n    }\n\n    .dataframe thead th {\n        text-align: right;\n    }\n</style>\n<table border=\"1\" class=\"dataframe\">\n  <thead>\n    <tr style=\"text-align: right;\">\n      <th></th>\n      <th>order_id</th>\n      <th>order_approved_at</th>\n      <th>order_delivered_customer_date</th>\n      <th>label</th>\n      <th>price</th>\n      <th>product_category_name</th>\n      <th>_merge</th>\n    </tr>\n  </thead>\n  <tbody>\n    <tr>\n      <th>0</th>\n      <td>e481f51cbdc54678b7cc49136f2d6af7</td>\n      <td>02/10/2017 11:07</td>\n      <td>10/10/2017 21:25</td>\n      <td>1</td>\n      <td>29.99</td>\n      <td>housewares</td>\n      <td>both</td>\n    </tr>\n    <tr>\n      <th>1</th>\n      <td>53cdb2fc8bc7dce0b6741e2150273451</td>\n      <td>26/07/2018 03:24</td>\n      <td>07/08/2018 15:27</td>\n      <td>1</td>\n      <td>118.70</td>\n      <td>perfumery</td>\n      <td>both</td>\n    </tr>\n    <tr>\n      <th>2</th>\n      <td>949d5b44dbf5de918fe9c16f97b45f8a</td>\n      <td>18/11/2017 19:45</td>\n      <td>02/12/2017 00:28</td>\n      <td>1</td>\n      <td>45.00</td>\n      <td>pet_shop</td>\n      <td>both</td>\n    </tr>\n    <tr>\n      <th>3</th>\n      <td>136cce7faa42fdb2cefd53fdc79a6098</td>\n      <td>13/04/2017 13:25</td>\n      <td>NaN</td>\n      <td>0</td>\n      <td>49.90</td>\n      <td>NaN</td>\n      <td>both</td>\n    </tr>\n    <tr>\n      <th>4</th>\n      <td>e6ce16cb79ec1d90b1da9085a6118aeb</td>\n      <td>16/05/2017 19:50</td>\n      <td>29/05/2017 11:18</td>\n      <td>0</td>\n      <td>99.00</td>\n      <td>garden_tools</td>\n      <td>both</td>\n    </tr>\n  </tbody>\n</table>\n</div>"
     },
     "metadata": {},
     "execution_count": 28
    }
   ],
   "source": [
    "print(merge_final.shape, merge_final._merge.unique())\n",
    "merge_final.head()"
   ]
  },
  {
   "cell_type": "code",
   "execution_count": 29,
   "metadata": {},
   "outputs": [],
   "source": [
    "# drop \"_merge\" colums\n",
    "merge_final.drop([\"_merge\"], axis=1, inplace=True)"
   ]
  },
  {
   "cell_type": "code",
   "execution_count": 30,
   "metadata": {},
   "outputs": [
    {
     "output_type": "stream",
     "name": "stdout",
     "text": [
      "(40111, 6)\n"
     ]
    },
    {
     "output_type": "execute_result",
     "data": {
      "text/plain": [
       "order_id                            0\n",
       "order_approved_at                   6\n",
       "order_delivered_customer_date    1427\n",
       "label                               0\n",
       "price                               0\n",
       "product_category_name             583\n",
       "dtype: int64"
      ]
     },
     "metadata": {},
     "execution_count": 30
    }
   ],
   "source": [
    "# Checking NaN values\n",
    "\n",
    "print(merge_final.shape)\n",
    "merge_final.isnull().sum()"
   ]
  },
  {
   "cell_type": "code",
   "execution_count": 31,
   "metadata": {},
   "outputs": [
    {
     "output_type": "execute_result",
     "data": {
      "text/plain": [
       "(38130, 6)"
      ]
     },
     "metadata": {},
     "execution_count": 31
    }
   ],
   "source": [
    "# Droping all rows those have NaN values\n",
    "\n",
    "merge_final_a = merge_final.dropna()\n",
    "merge_final_a.shape"
   ]
  },
  {
   "cell_type": "code",
   "execution_count": 32,
   "metadata": {},
   "outputs": [
    {
     "output_type": "execute_result",
     "data": {
      "text/plain": [
       "532"
      ]
     },
     "metadata": {},
     "execution_count": 32
    }
   ],
   "source": [
    "# removing duplicated Rows\n",
    "\n",
    "merge_final_a.duplicated().sum()"
   ]
  },
  {
   "cell_type": "code",
   "execution_count": 33,
   "metadata": {},
   "outputs": [],
   "source": [
    "merge_final_b = merge_final_a.drop_duplicates()"
   ]
  },
  {
   "cell_type": "code",
   "execution_count": 34,
   "metadata": {},
   "outputs": [
    {
     "output_type": "stream",
     "name": "stdout",
     "text": [
      "(37598, 6)\n"
     ]
    },
    {
     "output_type": "execute_result",
     "data": {
      "text/plain": [
       "                               order_id order_approved_at  \\\n",
       "23280  3b550d526029241325a94aa30a60cff0  08/09/2017 14:25   \n",
       "33628  10ce8dab3f76d4cdd5dd2e9c6d5c3feb  13/01/2018 10:04   \n",
       "18841  bbb1e23de4c2eba23ab1ad0da89f47b7  02/04/2018 09:35   \n",
       "38458  66953b497ee497a9823fab9b0addc8b6  20/01/2018 15:22   \n",
       "38146  047e0e88828680c6cd9c476d555823e2  22/05/2018 08:56   \n",
       "18758  21ac7b9aaf4cb4e41aa7ed2722a0c2ab  24/05/2018 18:38   \n",
       "1328   94a224f03c816cd9a1d94b886e26da80  04/03/2018 18:48   \n",
       "11264  a15e73bbba8b02796a4e55ac24ed1763  08/05/2018 19:35   \n",
       "\n",
       "      order_delivered_customer_date  label   price  product_category_name  \n",
       "23280              13/09/2017 15:07      0   24.41         sports_leisure  \n",
       "33628              28/01/2018 13:36      1   54.70      home_construction  \n",
       "18841              13/04/2018 22:28      1   17.99            electronics  \n",
       "38458              02/02/2018 23:08      1   49.90           garden_tools  \n",
       "38146              14/06/2018 21:18      0   25.52  computers_accessories  \n",
       "18758              06/06/2018 19:04      0   39.90      home_construction  \n",
       "1328               13/04/2018 19:14      0  149.90          watches_gifts  \n",
       "11264              16/05/2018 15:26      1  145.00          watches_gifts  "
      ],
      "text/html": "<div>\n<style scoped>\n    .dataframe tbody tr th:only-of-type {\n        vertical-align: middle;\n    }\n\n    .dataframe tbody tr th {\n        vertical-align: top;\n    }\n\n    .dataframe thead th {\n        text-align: right;\n    }\n</style>\n<table border=\"1\" class=\"dataframe\">\n  <thead>\n    <tr style=\"text-align: right;\">\n      <th></th>\n      <th>order_id</th>\n      <th>order_approved_at</th>\n      <th>order_delivered_customer_date</th>\n      <th>label</th>\n      <th>price</th>\n      <th>product_category_name</th>\n    </tr>\n  </thead>\n  <tbody>\n    <tr>\n      <th>23280</th>\n      <td>3b550d526029241325a94aa30a60cff0</td>\n      <td>08/09/2017 14:25</td>\n      <td>13/09/2017 15:07</td>\n      <td>0</td>\n      <td>24.41</td>\n      <td>sports_leisure</td>\n    </tr>\n    <tr>\n      <th>33628</th>\n      <td>10ce8dab3f76d4cdd5dd2e9c6d5c3feb</td>\n      <td>13/01/2018 10:04</td>\n      <td>28/01/2018 13:36</td>\n      <td>1</td>\n      <td>54.70</td>\n      <td>home_construction</td>\n    </tr>\n    <tr>\n      <th>18841</th>\n      <td>bbb1e23de4c2eba23ab1ad0da89f47b7</td>\n      <td>02/04/2018 09:35</td>\n      <td>13/04/2018 22:28</td>\n      <td>1</td>\n      <td>17.99</td>\n      <td>electronics</td>\n    </tr>\n    <tr>\n      <th>38458</th>\n      <td>66953b497ee497a9823fab9b0addc8b6</td>\n      <td>20/01/2018 15:22</td>\n      <td>02/02/2018 23:08</td>\n      <td>1</td>\n      <td>49.90</td>\n      <td>garden_tools</td>\n    </tr>\n    <tr>\n      <th>38146</th>\n      <td>047e0e88828680c6cd9c476d555823e2</td>\n      <td>22/05/2018 08:56</td>\n      <td>14/06/2018 21:18</td>\n      <td>0</td>\n      <td>25.52</td>\n      <td>computers_accessories</td>\n    </tr>\n    <tr>\n      <th>18758</th>\n      <td>21ac7b9aaf4cb4e41aa7ed2722a0c2ab</td>\n      <td>24/05/2018 18:38</td>\n      <td>06/06/2018 19:04</td>\n      <td>0</td>\n      <td>39.90</td>\n      <td>home_construction</td>\n    </tr>\n    <tr>\n      <th>1328</th>\n      <td>94a224f03c816cd9a1d94b886e26da80</td>\n      <td>04/03/2018 18:48</td>\n      <td>13/04/2018 19:14</td>\n      <td>0</td>\n      <td>149.90</td>\n      <td>watches_gifts</td>\n    </tr>\n    <tr>\n      <th>11264</th>\n      <td>a15e73bbba8b02796a4e55ac24ed1763</td>\n      <td>08/05/2018 19:35</td>\n      <td>16/05/2018 15:26</td>\n      <td>1</td>\n      <td>145.00</td>\n      <td>watches_gifts</td>\n    </tr>\n  </tbody>\n</table>\n</div>"
     },
     "metadata": {},
     "execution_count": 34
    }
   ],
   "source": [
    "print(merge_final_b.shape)\n",
    "merge_final_b.sample(8)"
   ]
  },
  {
   "source": [
    "### chage \"order_approved_at\",\"order_delivered_customer_date\",\"order_estimated_delivery_date\" column into date formate keep only dates and after midnight it chage into next day."
   ],
   "cell_type": "markdown",
   "metadata": {}
  },
  {
   "cell_type": "code",
   "execution_count": 35,
   "metadata": {},
   "outputs": [
    {
     "output_type": "execute_result",
     "data": {
      "text/plain": [
       "                               order_id order_approved_at  \\\n",
       "31817  1ad631eef80afb67f53ed0b9083846e7        2018-07-19   \n",
       "26508  d7918e406132d7c81f1b845276b03a3b        2017-07-14   \n",
       "33819  c71168b3286e7c26a34e005edb6a63e8        2017-07-16   \n",
       "6404   d06fe8d6f4bdfe9cd1992aa3322f2f47        2018-07-06   \n",
       "5744   60bcba6747ee878b9007f61275f4cd1f        2018-04-18   \n",
       "\n",
       "      order_delivered_customer_date  label   price  product_category_name  \n",
       "31817                    2018-08-14      1  139.99       office_furniture  \n",
       "26508                    2017-08-17      0   29.90        furniture_decor  \n",
       "33819                    2017-07-24      1  114.97  furniture_living_room  \n",
       "6404                     2018-06-21      1  129.00           home_confort  \n",
       "5744                     2018-04-23      1  249.90         bed_bath_table  "
      ],
      "text/html": "<div>\n<style scoped>\n    .dataframe tbody tr th:only-of-type {\n        vertical-align: middle;\n    }\n\n    .dataframe tbody tr th {\n        vertical-align: top;\n    }\n\n    .dataframe thead th {\n        text-align: right;\n    }\n</style>\n<table border=\"1\" class=\"dataframe\">\n  <thead>\n    <tr style=\"text-align: right;\">\n      <th></th>\n      <th>order_id</th>\n      <th>order_approved_at</th>\n      <th>order_delivered_customer_date</th>\n      <th>label</th>\n      <th>price</th>\n      <th>product_category_name</th>\n    </tr>\n  </thead>\n  <tbody>\n    <tr>\n      <th>31817</th>\n      <td>1ad631eef80afb67f53ed0b9083846e7</td>\n      <td>2018-07-19</td>\n      <td>2018-08-14</td>\n      <td>1</td>\n      <td>139.99</td>\n      <td>office_furniture</td>\n    </tr>\n    <tr>\n      <th>26508</th>\n      <td>d7918e406132d7c81f1b845276b03a3b</td>\n      <td>2017-07-14</td>\n      <td>2017-08-17</td>\n      <td>0</td>\n      <td>29.90</td>\n      <td>furniture_decor</td>\n    </tr>\n    <tr>\n      <th>33819</th>\n      <td>c71168b3286e7c26a34e005edb6a63e8</td>\n      <td>2017-07-16</td>\n      <td>2017-07-24</td>\n      <td>1</td>\n      <td>114.97</td>\n      <td>furniture_living_room</td>\n    </tr>\n    <tr>\n      <th>6404</th>\n      <td>d06fe8d6f4bdfe9cd1992aa3322f2f47</td>\n      <td>2018-07-06</td>\n      <td>2018-06-21</td>\n      <td>1</td>\n      <td>129.00</td>\n      <td>home_confort</td>\n    </tr>\n    <tr>\n      <th>5744</th>\n      <td>60bcba6747ee878b9007f61275f4cd1f</td>\n      <td>2018-04-18</td>\n      <td>2018-04-23</td>\n      <td>1</td>\n      <td>249.90</td>\n      <td>bed_bath_table</td>\n    </tr>\n  </tbody>\n</table>\n</div>"
     },
     "metadata": {},
     "execution_count": 35
    }
   ],
   "source": [
    "merge_final_c = merge_final_b.copy()\n",
    "merge_final_c[\"order_approved_at\"] = pd.to_datetime(merge_final_c[\"order_approved_at\"]).dt.normalize()\n",
    "merge_final_c[\"order_delivered_customer_date\"] = pd.to_datetime(merge_final_c[\"order_delivered_customer_date\"]).dt.normalize()\n",
    "merge_final_c.sample(5)"
   ]
  },
  {
   "source": [
    "### Create a new columns , that carries how many day it takes to delivery the product. "
   ],
   "cell_type": "markdown",
   "metadata": {}
  },
  {
   "cell_type": "code",
   "execution_count": 36,
   "metadata": {},
   "outputs": [],
   "source": [
    "from datetime import datetime"
   ]
  },
  {
   "cell_type": "code",
   "execution_count": 37,
   "metadata": {},
   "outputs": [],
   "source": [
    "# create a function that calculate the day from order_approved_at and orde_delivered_customer_date columns\n",
    "\n",
    "dates_list = []\n",
    "def dates (a,b):\n",
    "    day = b - a\n",
    "    count_day = day.days\n",
    "    dates_list.append(count_day)\n",
    "\n",
    "for i in range (merge_final_c.shape[0]):\n",
    "    try:\n",
    "        dates(merge_final_c[\"order_approved_at\"][i],merge_final_c[\"order_delivered_customer_date\"][i])\n",
    "    except:\n",
    "        dates_list.append(\"not_date\")"
   ]
  },
  {
   "cell_type": "code",
   "execution_count": 38,
   "metadata": {},
   "outputs": [],
   "source": [
    "# create the delivery_days column\n",
    "\n",
    "merge_final_c[\"delivery_days\"] = dates_list"
   ]
  },
  {
   "cell_type": "code",
   "execution_count": 39,
   "metadata": {},
   "outputs": [
    {
     "output_type": "execute_result",
     "data": {
      "text/plain": [
       "                           order_id order_approved_at  \\\n",
       "0  e481f51cbdc54678b7cc49136f2d6af7        2017-02-10   \n",
       "1  53cdb2fc8bc7dce0b6741e2150273451        2018-07-26   \n",
       "2  949d5b44dbf5de918fe9c16f97b45f8a        2017-11-18   \n",
       "4  e6ce16cb79ec1d90b1da9085a6118aeb        2017-05-16   \n",
       "5  432aaf21d85167c2c86ec9448c4e42cc        2018-01-03   \n",
       "\n",
       "  order_delivered_customer_date  label   price product_category_name  \\\n",
       "0                    2017-10-10      1   29.99            housewares   \n",
       "1                    2018-07-08      1  118.70             perfumery   \n",
       "2                    2017-02-12      1   45.00              pet_shop   \n",
       "4                    2017-05-29      0   99.00          garden_tools   \n",
       "5                    2018-12-03      1   38.25                  toys   \n",
       "\n",
       "  delivery_days  \n",
       "0           242  \n",
       "1           -18  \n",
       "2          -279  \n",
       "4      not_date  \n",
       "5            13  "
      ],
      "text/html": "<div>\n<style scoped>\n    .dataframe tbody tr th:only-of-type {\n        vertical-align: middle;\n    }\n\n    .dataframe tbody tr th {\n        vertical-align: top;\n    }\n\n    .dataframe thead th {\n        text-align: right;\n    }\n</style>\n<table border=\"1\" class=\"dataframe\">\n  <thead>\n    <tr style=\"text-align: right;\">\n      <th></th>\n      <th>order_id</th>\n      <th>order_approved_at</th>\n      <th>order_delivered_customer_date</th>\n      <th>label</th>\n      <th>price</th>\n      <th>product_category_name</th>\n      <th>delivery_days</th>\n    </tr>\n  </thead>\n  <tbody>\n    <tr>\n      <th>0</th>\n      <td>e481f51cbdc54678b7cc49136f2d6af7</td>\n      <td>2017-02-10</td>\n      <td>2017-10-10</td>\n      <td>1</td>\n      <td>29.99</td>\n      <td>housewares</td>\n      <td>242</td>\n    </tr>\n    <tr>\n      <th>1</th>\n      <td>53cdb2fc8bc7dce0b6741e2150273451</td>\n      <td>2018-07-26</td>\n      <td>2018-07-08</td>\n      <td>1</td>\n      <td>118.70</td>\n      <td>perfumery</td>\n      <td>-18</td>\n    </tr>\n    <tr>\n      <th>2</th>\n      <td>949d5b44dbf5de918fe9c16f97b45f8a</td>\n      <td>2017-11-18</td>\n      <td>2017-02-12</td>\n      <td>1</td>\n      <td>45.00</td>\n      <td>pet_shop</td>\n      <td>-279</td>\n    </tr>\n    <tr>\n      <th>4</th>\n      <td>e6ce16cb79ec1d90b1da9085a6118aeb</td>\n      <td>2017-05-16</td>\n      <td>2017-05-29</td>\n      <td>0</td>\n      <td>99.00</td>\n      <td>garden_tools</td>\n      <td>not_date</td>\n    </tr>\n    <tr>\n      <th>5</th>\n      <td>432aaf21d85167c2c86ec9448c4e42cc</td>\n      <td>2018-01-03</td>\n      <td>2018-12-03</td>\n      <td>1</td>\n      <td>38.25</td>\n      <td>toys</td>\n      <td>13</td>\n    </tr>\n  </tbody>\n</table>\n</div>"
     },
     "metadata": {},
     "execution_count": 39
    }
   ],
   "source": [
    "merge_final_c.head()"
   ]
  },
  {
   "cell_type": "code",
   "execution_count": 40,
   "metadata": {},
   "outputs": [
    {
     "output_type": "execute_result",
     "data": {
      "text/plain": [
       "(2347, 7)"
      ]
     },
     "metadata": {},
     "execution_count": 40
    }
   ],
   "source": [
    "# in delivery_dates column, the fuction unable to calculate day form those 2 columns. so function put as not_date on those row.\n",
    "# so we have to remove those row.\n",
    "\n",
    "merge_final_c[merge_final_c.delivery_days==\"not_date\"].shape\n"
   ]
  },
  {
   "cell_type": "code",
   "execution_count": 41,
   "metadata": {},
   "outputs": [],
   "source": [
    "merge_final_d = merge_final_c[~(merge_final_c.delivery_days==\"not_date\")]"
   ]
  },
  {
   "cell_type": "code",
   "execution_count": 42,
   "metadata": {},
   "outputs": [
    {
     "output_type": "execute_result",
     "data": {
      "text/plain": [
       "(10503, 7)"
      ]
     },
     "metadata": {},
     "execution_count": 42
    }
   ],
   "source": [
    "# In this dataset there are so my wrong data in \"order_approved_at\" and \"order_delivered_customer_date\" columns\n",
    "# sometimes data says that product is delivered before it order approve date. so we have to handle those data.\n",
    "# remove those row where delivery_days is negative\n",
    "\n",
    "merge_final_d[merge_final_d.delivery_days < 0].shape"
   ]
  },
  {
   "cell_type": "code",
   "execution_count": 43,
   "metadata": {},
   "outputs": [],
   "source": [
    "merge_final_f = merge_final_d[~(merge_final_d.delivery_days < 0)]"
   ]
  },
  {
   "cell_type": "code",
   "execution_count": 44,
   "metadata": {},
   "outputs": [
    {
     "output_type": "execute_result",
     "data": {
      "text/plain": [
       "(24748, 7)"
      ]
     },
     "metadata": {},
     "execution_count": 44
    }
   ],
   "source": [
    "merge_final_f.shape"
   ]
  },
  {
   "cell_type": "code",
   "execution_count": 45,
   "metadata": {},
   "outputs": [
    {
     "output_type": "execute_result",
     "data": {
      "text/plain": [
       "                            order_id order_approved_at  \\\n",
       "0   e481f51cbdc54678b7cc49136f2d6af7        2017-02-10   \n",
       "5   432aaf21d85167c2c86ec9448c4e42cc        2018-01-03   \n",
       "6   dcb36b511fcac050b97cd5c05de84dc3        2018-12-06   \n",
       "11  acce194856392f074dbf9dada14d8d82        2018-05-06   \n",
       "12  acce194856392f074dbf9dada14d8d82        2018-05-06   \n",
       "\n",
       "   order_delivered_customer_date  label   price product_category_name  \\\n",
       "0                     2017-10-10      1   29.99            housewares   \n",
       "5                     2018-12-03      1   38.25                  toys   \n",
       "6                     2018-06-21      1  132.40             perfumery   \n",
       "11                    2018-06-16      0   39.50                  baby   \n",
       "12                    2018-06-16      0   90.90                  baby   \n",
       "\n",
       "   delivery_days  \n",
       "0            242  \n",
       "5             13  \n",
       "6            334  \n",
       "11            27  \n",
       "12            41  "
      ],
      "text/html": "<div>\n<style scoped>\n    .dataframe tbody tr th:only-of-type {\n        vertical-align: middle;\n    }\n\n    .dataframe tbody tr th {\n        vertical-align: top;\n    }\n\n    .dataframe thead th {\n        text-align: right;\n    }\n</style>\n<table border=\"1\" class=\"dataframe\">\n  <thead>\n    <tr style=\"text-align: right;\">\n      <th></th>\n      <th>order_id</th>\n      <th>order_approved_at</th>\n      <th>order_delivered_customer_date</th>\n      <th>label</th>\n      <th>price</th>\n      <th>product_category_name</th>\n      <th>delivery_days</th>\n    </tr>\n  </thead>\n  <tbody>\n    <tr>\n      <th>0</th>\n      <td>e481f51cbdc54678b7cc49136f2d6af7</td>\n      <td>2017-02-10</td>\n      <td>2017-10-10</td>\n      <td>1</td>\n      <td>29.99</td>\n      <td>housewares</td>\n      <td>242</td>\n    </tr>\n    <tr>\n      <th>5</th>\n      <td>432aaf21d85167c2c86ec9448c4e42cc</td>\n      <td>2018-01-03</td>\n      <td>2018-12-03</td>\n      <td>1</td>\n      <td>38.25</td>\n      <td>toys</td>\n      <td>13</td>\n    </tr>\n    <tr>\n      <th>6</th>\n      <td>dcb36b511fcac050b97cd5c05de84dc3</td>\n      <td>2018-12-06</td>\n      <td>2018-06-21</td>\n      <td>1</td>\n      <td>132.40</td>\n      <td>perfumery</td>\n      <td>334</td>\n    </tr>\n    <tr>\n      <th>11</th>\n      <td>acce194856392f074dbf9dada14d8d82</td>\n      <td>2018-05-06</td>\n      <td>2018-06-16</td>\n      <td>0</td>\n      <td>39.50</td>\n      <td>baby</td>\n      <td>27</td>\n    </tr>\n    <tr>\n      <th>12</th>\n      <td>acce194856392f074dbf9dada14d8d82</td>\n      <td>2018-05-06</td>\n      <td>2018-06-16</td>\n      <td>0</td>\n      <td>90.90</td>\n      <td>baby</td>\n      <td>41</td>\n    </tr>\n  </tbody>\n</table>\n</div>"
     },
     "metadata": {},
     "execution_count": 45
    }
   ],
   "source": [
    "merge_final_f.head()"
   ]
  },
  {
   "cell_type": "code",
   "execution_count": 46,
   "metadata": {},
   "outputs": [],
   "source": [
    "# Remove unnecessary colums \n",
    "\n",
    "df_final = merge_final_f.drop([\"order_id\", \"order_approved_at\",\"order_delivered_customer_date\"], axis=1)"
   ]
  },
  {
   "cell_type": "code",
   "execution_count": 47,
   "metadata": {},
   "outputs": [
    {
     "output_type": "execute_result",
     "data": {
      "text/plain": [
       "    label   price product_category_name delivery_days\n",
       "0       1   29.99            housewares           242\n",
       "5       1   38.25                  toys            13\n",
       "6       1  132.40             perfumery           334\n",
       "11      0   39.50                  baby            27\n",
       "12      0   90.90                  baby            41"
      ],
      "text/html": "<div>\n<style scoped>\n    .dataframe tbody tr th:only-of-type {\n        vertical-align: middle;\n    }\n\n    .dataframe tbody tr th {\n        vertical-align: top;\n    }\n\n    .dataframe thead th {\n        text-align: right;\n    }\n</style>\n<table border=\"1\" class=\"dataframe\">\n  <thead>\n    <tr style=\"text-align: right;\">\n      <th></th>\n      <th>label</th>\n      <th>price</th>\n      <th>product_category_name</th>\n      <th>delivery_days</th>\n    </tr>\n  </thead>\n  <tbody>\n    <tr>\n      <th>0</th>\n      <td>1</td>\n      <td>29.99</td>\n      <td>housewares</td>\n      <td>242</td>\n    </tr>\n    <tr>\n      <th>5</th>\n      <td>1</td>\n      <td>38.25</td>\n      <td>toys</td>\n      <td>13</td>\n    </tr>\n    <tr>\n      <th>6</th>\n      <td>1</td>\n      <td>132.40</td>\n      <td>perfumery</td>\n      <td>334</td>\n    </tr>\n    <tr>\n      <th>11</th>\n      <td>0</td>\n      <td>39.50</td>\n      <td>baby</td>\n      <td>27</td>\n    </tr>\n    <tr>\n      <th>12</th>\n      <td>0</td>\n      <td>90.90</td>\n      <td>baby</td>\n      <td>41</td>\n    </tr>\n  </tbody>\n</table>\n</div>"
     },
     "metadata": {},
     "execution_count": 47
    }
   ],
   "source": [
    "df_final.head()"
   ]
  },
  {
   "cell_type": "code",
   "execution_count": 48,
   "metadata": {},
   "outputs": [
    {
     "output_type": "execute_result",
     "data": {
      "text/plain": [
       "label                    0\n",
       "price                    0\n",
       "product_category_name    0\n",
       "delivery_days            0\n",
       "dtype: int64"
      ]
     },
     "metadata": {},
     "execution_count": 48
    }
   ],
   "source": [
    "df_final.isnull().sum()"
   ]
  },
  {
   "cell_type": "code",
   "execution_count": 49,
   "metadata": {},
   "outputs": [],
   "source": [
    "# Now the dataset is ready for creating ML model so save the df_final into a csv file.\n",
    "\n",
    "df_final.to_csv(\"merged_cleaned_data.csv\", index=False)"
   ]
  }
 ]
}